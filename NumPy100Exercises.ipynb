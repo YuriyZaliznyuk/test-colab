{
  "nbformat": 4,
  "nbformat_minor": 0,
  "metadata": {
    "colab": {
      "name": "Untitled1.ipynb",
      "provenance": [],
      "authorship_tag": "ABX9TyPGRUbhlJhjlPi+cqeHXNw6",
      "include_colab_link": true
    },
    "kernelspec": {
      "name": "python3",
      "display_name": "Python 3"
    },
    "language_info": {
      "name": "python"
    }
  },
  "cells": [
    {
      "cell_type": "markdown",
      "metadata": {
        "id": "view-in-github",
        "colab_type": "text"
      },
      "source": [
        "<a href=\"https://colab.research.google.com/github/YuriyZaliznyuk/test-colab/blob/main/NumPy100Exercises.ipynb\" target=\"_parent\"><img src=\"https://colab.research.google.com/assets/colab-badge.svg\" alt=\"Open In Colab\"/></a>"
      ]
    },
    {
      "cell_type": "markdown",
      "metadata": {
        "id": "4Mu850q-ZV94"
      },
      "source": [
        "### **Exercise 001**"
      ]
    },
    {
      "cell_type": "code",
      "metadata": {
        "colab": {
          "base_uri": "https://localhost:8080/"
        },
        "id": "XLfQtoLIVh4d",
        "outputId": "5668f267-cdcf-4b50-c8b1-b2f10dbeb00c"
      },
      "source": [
        "import numpy as np\n",
        "\n",
        "\n",
        "A = np.array([[3, 2, 1, 4],\n",
        "              [5, 2, 1, 6]])\n",
        "\n",
        "B = np.array([[3, 2, 1, 4],\n",
        "              [5, 2, 0, 6]])\n",
        "\n",
        "C = np.array([[True, False, False],\n",
        "              [True, True, True]])\n",
        "\n",
        "D = np.array([0.1, 0.3])\n",
        "\n",
        "for name, array in zip(list('ABCD'), [A, B, C, D]):\n",
        "    print(f'{name}: {np.all(array)}')"
      ],
      "execution_count": 10,
      "outputs": [
        {
          "output_type": "stream",
          "text": [
            "A: True\n",
            "B: False\n",
            "C: False\n",
            "D: True\n"
          ],
          "name": "stdout"
        }
      ]
    }
  ]
}